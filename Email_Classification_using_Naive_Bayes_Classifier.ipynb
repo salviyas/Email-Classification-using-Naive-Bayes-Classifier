{
  "nbformat": 4,
  "nbformat_minor": 0,
  "metadata": {
    "colab": {
      "provenance": [],
      "authorship_tag": "ABX9TyNUOFUdh+iMYKotWT90406G",
      "include_colab_link": true
    },
    "kernelspec": {
      "name": "python3",
      "display_name": "Python 3"
    },
    "language_info": {
      "name": "python"
    }
  },
  "cells": [
    {
      "cell_type": "markdown",
      "metadata": {
        "id": "view-in-github",
        "colab_type": "text"
      },
      "source": [
        "<a href=\"https://colab.research.google.com/github/salviyas/Email-Classification-using-Naive-Bayes-Classifier/blob/main/Email_Classification_using_Naive_Bayes_Classifier.ipynb\" target=\"_parent\"><img src=\"https://colab.research.google.com/assets/colab-badge.svg\" alt=\"Open In Colab\"/></a>"
      ]
    },
    {
      "cell_type": "code",
      "execution_count": 4,
      "metadata": {
        "colab": {
          "base_uri": "https://localhost:8080/"
        },
        "id": "vRUwIwcUPDRq",
        "outputId": "5467e72a-4940-474f-d2db-1bb55926741b"
      },
      "outputs": [
        {
          "output_type": "stream",
          "name": "stdout",
          "text": [
            "                                               Email     Label\n",
            "0  Congratulations,you've won a free vacation!Cli...      spam\n",
            "1          hey,are you free to catch up later today?  not spam\n",
            "2  win money easily by clicking here:http://spamw...      spam\n",
            "3        Don't forget our meeting  tomorrow at 10 AM  not spam\n",
            "4                    free lottery tickets,claim now!      spam\n",
            "5              Can you review the attached document?  not spam\n",
            "6  you've been selected for a free cruise to the ...      spam\n",
            "7        Let's have lunch at that new cafe tomorrow.  not spam\n"
          ]
        }
      ],
      "source": [
        "import pandas as pd\n",
        "from sklearn.feature_extraction.text import CountVectorizer\n",
        "from sklearn.model_selection import train_test_split\n",
        "from sklearn.naive_bayes import MultinomialNB\n",
        "from sklearn.metrics import accuracy_score, confusion_matrix,classification_report\n",
        "\n",
        "\n",
        "\n",
        "data={\n",
        "    \"Email\":[\n",
        "        \"Congratulations,you've won a free vacation!Click the button to claim your prize.\",\n",
        "        \"hey,are you free to catch up later today?\",\n",
        "        \"win money easily by clicking here:http://spamwebsite.com\",\n",
        "        \"Don't forget our meeting  tomorrow at 10 AM\",\n",
        "        \"free lottery tickets,claim now!\",\n",
        "        \"Can you review the attached document?\",\n",
        "        \"you've been selected for a free cruise to the Bahamas!\",\n",
        "        \"Let's have lunch at that new cafe tomorrow.\"\n",
        "\n",
        "\n",
        "    ],\n",
        "\n",
        "    'Label':['spam','not spam','spam','not spam','spam','not spam','spam','not spam']\n",
        "}\n",
        "\n",
        "df=pd.DataFrame(data)\n",
        "print(df)"
      ]
    },
    {
      "cell_type": "code",
      "source": [
        "vectorizer=CountVectorizer()\n",
        "X=vectorizer.fit_transform(df['Email'])\n",
        "y=df['Label']\n",
        "\n",
        "X_train,X_test,y_train,y_test=train_test_split(X,y,test_size=0.2,random_state=42)\n",
        "\n",
        "model=MultinomialNB()\n",
        "model.fit(X_train,y_train)\n",
        "\n",
        "y_pred=model.predict(X_test)\n",
        "\n",
        "\n",
        "accuracy=accuracy_score(y_test,y_pred)\n",
        "print(\"Accuracy:\",accuracy)\n",
        "\n",
        "confusion=confusion_matrix(y_test,y_pred)\n",
        "print(\"Confusion Matrix:\")\n",
        "print(confusion)\n",
        "\n",
        "classification_rep=classification_report(y_test,y_pred)\n",
        "print(\"Classification Report:\")\n",
        "print(classification_rep)"
      ],
      "metadata": {
        "colab": {
          "base_uri": "https://localhost:8080/"
        },
        "id": "Du9gxbqsTBSK",
        "outputId": "697c3447-9056-4263-883d-9d5f2176722a"
      },
      "execution_count": 6,
      "outputs": [
        {
          "output_type": "stream",
          "name": "stdout",
          "text": [
            "Accuracy: 0.0\n",
            "Confusion Matrix:\n",
            "[[0 2]\n",
            " [0 0]]\n",
            "Classification Report:\n",
            "              precision    recall  f1-score   support\n",
            "\n",
            "    not spam       0.00      0.00      0.00       2.0\n",
            "        spam       0.00      0.00      0.00       0.0\n",
            "\n",
            "    accuracy                           0.00       2.0\n",
            "   macro avg       0.00      0.00      0.00       2.0\n",
            "weighted avg       0.00      0.00      0.00       2.0\n",
            "\n"
          ]
        },
        {
          "output_type": "stream",
          "name": "stderr",
          "text": [
            "/usr/local/lib/python3.10/dist-packages/sklearn/metrics/_classification.py:1471: UndefinedMetricWarning: Precision and F-score are ill-defined and being set to 0.0 in labels with no predicted samples. Use `zero_division` parameter to control this behavior.\n",
            "  _warn_prf(average, modifier, msg_start, len(result))\n",
            "/usr/local/lib/python3.10/dist-packages/sklearn/metrics/_classification.py:1471: UndefinedMetricWarning: Recall and F-score are ill-defined and being set to 0.0 in labels with no true samples. Use `zero_division` parameter to control this behavior.\n",
            "  _warn_prf(average, modifier, msg_start, len(result))\n",
            "/usr/local/lib/python3.10/dist-packages/sklearn/metrics/_classification.py:1471: UndefinedMetricWarning: Precision and F-score are ill-defined and being set to 0.0 in labels with no predicted samples. Use `zero_division` parameter to control this behavior.\n",
            "  _warn_prf(average, modifier, msg_start, len(result))\n",
            "/usr/local/lib/python3.10/dist-packages/sklearn/metrics/_classification.py:1471: UndefinedMetricWarning: Recall and F-score are ill-defined and being set to 0.0 in labels with no true samples. Use `zero_division` parameter to control this behavior.\n",
            "  _warn_prf(average, modifier, msg_start, len(result))\n",
            "/usr/local/lib/python3.10/dist-packages/sklearn/metrics/_classification.py:1471: UndefinedMetricWarning: Precision and F-score are ill-defined and being set to 0.0 in labels with no predicted samples. Use `zero_division` parameter to control this behavior.\n",
            "  _warn_prf(average, modifier, msg_start, len(result))\n",
            "/usr/local/lib/python3.10/dist-packages/sklearn/metrics/_classification.py:1471: UndefinedMetricWarning: Recall and F-score are ill-defined and being set to 0.0 in labels with no true samples. Use `zero_division` parameter to control this behavior.\n",
            "  _warn_prf(average, modifier, msg_start, len(result))\n"
          ]
        }
      ]
    },
    {
      "cell_type": "code",
      "source": [
        "new_email = [\"shall we meet tomorrow\"]\n",
        "new_email_vectorized = vectorizer.transform(new_email)\n",
        "classification = model.predict(new_email_vectorized)\n",
        "\n",
        "print(\"\\nNew Email:\", new_email[0])\n",
        "print(\"Classification:\", classification[0])"
      ],
      "metadata": {
        "colab": {
          "base_uri": "https://localhost:8080/"
        },
        "id": "MZ1rFRxHUTbl",
        "outputId": "9f8b57ba-fa38-4266-d77d-c406554c3eea"
      },
      "execution_count": 8,
      "outputs": [
        {
          "output_type": "stream",
          "name": "stdout",
          "text": [
            "\n",
            "New Email: shall we meet tomorrow\n",
            "Classification: not spam\n"
          ]
        }
      ]
    },
    {
      "cell_type": "code",
      "source": [],
      "metadata": {
        "id": "gj9pmhQnXfI7"
      },
      "execution_count": null,
      "outputs": []
    }
  ]
}